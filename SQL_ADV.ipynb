{
 "cells": [
  {
   "cell_type": "markdown",
   "id": "325f42ea",
   "metadata": {},
   "source": [
    "Implement an analysis about football soccer using data analysys visualization and SQL tools\n",
    "\n",
    "$$100$$"
   ]
  },
  {
   "cell_type": "code",
   "execution_count": 1,
   "id": "f33d65e4",
   "metadata": {},
   "outputs": [],
   "source": [
    "import numpy as np # linear algebra\n",
    "import pandas as pd # data processing, CSV file I/O (e.g. pd.read_csv)\n",
    "import sqlite3\n",
    "import matplotlib.pyplot as plt\n",
    "\n",
    "\n",
    "###EXPLANATION ABOUT BETTING COLUMNS AT      https://www.football-data.co.uk/notes.txt\n",
    "##FROM https://www.football-data.co.uk/italym.php \n",
    "## Fetching data\n",
    "#Connecting to database\n",
    "path = \"./\"  #Insert path here\n",
    "database = path + 'database.sqlite'\n",
    "conn = sqlite3.connect(database)\n"
   ]
  },
  {
   "cell_type": "code",
   "execution_count": 513,
   "id": "4ad00c6e",
   "metadata": {},
   "outputs": [
    {
     "data": {
      "text/html": [
       "<div>\n",
       "<style scoped>\n",
       "    .dataframe tbody tr th:only-of-type {\n",
       "        vertical-align: middle;\n",
       "    }\n",
       "\n",
       "    .dataframe tbody tr th {\n",
       "        vertical-align: top;\n",
       "    }\n",
       "\n",
       "    .dataframe thead th {\n",
       "        text-align: right;\n",
       "    }\n",
       "</style>\n",
       "<table border=\"1\" class=\"dataframe\">\n",
       "  <thead>\n",
       "    <tr style=\"text-align: right;\">\n",
       "      <th></th>\n",
       "      <th>type</th>\n",
       "      <th>name</th>\n",
       "      <th>tbl_name</th>\n",
       "      <th>rootpage</th>\n",
       "      <th>sql</th>\n",
       "    </tr>\n",
       "  </thead>\n",
       "  <tbody>\n",
       "    <tr>\n",
       "      <th>0</th>\n",
       "      <td>table</td>\n",
       "      <td>sqlite_sequence</td>\n",
       "      <td>sqlite_sequence</td>\n",
       "      <td>4</td>\n",
       "      <td>CREATE TABLE sqlite_sequence(name,seq)</td>\n",
       "    </tr>\n",
       "    <tr>\n",
       "      <th>1</th>\n",
       "      <td>table</td>\n",
       "      <td>Player_Attributes</td>\n",
       "      <td>Player_Attributes</td>\n",
       "      <td>11</td>\n",
       "      <td>CREATE TABLE \"Player_Attributes\" (\\n\\t`id`\\tIN...</td>\n",
       "    </tr>\n",
       "    <tr>\n",
       "      <th>2</th>\n",
       "      <td>table</td>\n",
       "      <td>Player</td>\n",
       "      <td>Player</td>\n",
       "      <td>14</td>\n",
       "      <td>CREATE TABLE `Player` (\\n\\t`id`\\tINTEGER PRIMA...</td>\n",
       "    </tr>\n",
       "    <tr>\n",
       "      <th>3</th>\n",
       "      <td>table</td>\n",
       "      <td>Match</td>\n",
       "      <td>Match</td>\n",
       "      <td>18</td>\n",
       "      <td>CREATE TABLE `Match` (\\n\\t`id`\\tINTEGER PRIMAR...</td>\n",
       "    </tr>\n",
       "    <tr>\n",
       "      <th>4</th>\n",
       "      <td>table</td>\n",
       "      <td>League</td>\n",
       "      <td>League</td>\n",
       "      <td>24</td>\n",
       "      <td>CREATE TABLE `League` (\\n\\t`id`\\tINTEGER PRIMA...</td>\n",
       "    </tr>\n",
       "    <tr>\n",
       "      <th>5</th>\n",
       "      <td>table</td>\n",
       "      <td>Country</td>\n",
       "      <td>Country</td>\n",
       "      <td>26</td>\n",
       "      <td>CREATE TABLE `Country` (\\n\\t`id`\\tINTEGER PRIM...</td>\n",
       "    </tr>\n",
       "    <tr>\n",
       "      <th>6</th>\n",
       "      <td>table</td>\n",
       "      <td>Team</td>\n",
       "      <td>Team</td>\n",
       "      <td>29</td>\n",
       "      <td>CREATE TABLE \"Team\" (\\n\\t`id`\\tINTEGER PRIMARY...</td>\n",
       "    </tr>\n",
       "    <tr>\n",
       "      <th>7</th>\n",
       "      <td>table</td>\n",
       "      <td>Team_Attributes</td>\n",
       "      <td>Team_Attributes</td>\n",
       "      <td>2</td>\n",
       "      <td>CREATE TABLE `Team_Attributes` (\\n\\t`id`\\tINTE...</td>\n",
       "    </tr>\n",
       "  </tbody>\n",
       "</table>\n",
       "</div>"
      ],
      "text/plain": [
       "    type               name           tbl_name  rootpage  \\\n",
       "0  table    sqlite_sequence    sqlite_sequence         4   \n",
       "1  table  Player_Attributes  Player_Attributes        11   \n",
       "2  table             Player             Player        14   \n",
       "3  table              Match              Match        18   \n",
       "4  table             League             League        24   \n",
       "5  table            Country            Country        26   \n",
       "6  table               Team               Team        29   \n",
       "7  table    Team_Attributes    Team_Attributes         2   \n",
       "\n",
       "                                                 sql  \n",
       "0             CREATE TABLE sqlite_sequence(name,seq)  \n",
       "1  CREATE TABLE \"Player_Attributes\" (\\n\\t`id`\\tIN...  \n",
       "2  CREATE TABLE `Player` (\\n\\t`id`\\tINTEGER PRIMA...  \n",
       "3  CREATE TABLE `Match` (\\n\\t`id`\\tINTEGER PRIMAR...  \n",
       "4  CREATE TABLE `League` (\\n\\t`id`\\tINTEGER PRIMA...  \n",
       "5  CREATE TABLE `Country` (\\n\\t`id`\\tINTEGER PRIM...  \n",
       "6  CREATE TABLE \"Team\" (\\n\\t`id`\\tINTEGER PRIMARY...  \n",
       "7  CREATE TABLE `Team_Attributes` (\\n\\t`id`\\tINTE...  "
      ]
     },
     "execution_count": 513,
     "metadata": {},
     "output_type": "execute_result"
    }
   ],
   "source": [
    "#####Fetch all tables in sqlite database\n",
    "\n",
    "sql_query = \"\"\"SELECT * FROM sqlite_master  WHERE type='table';\"\"\"\n",
    "all_tables=pd.read_sql(sql_query, conn)\n",
    "all_tables"
   ]
  },
  {
   "cell_type": "code",
   "execution_count": 522,
   "id": "8967bd34",
   "metadata": {},
   "outputs": [],
   "source": [
    "###Store some tables in separate pandas\n",
    "country_data = pd.read_sql(\"SELECT * FROM Country;\", conn)\n",
    "league_data = pd.read_sql(\"SELECT * FROM League;\", conn)\n",
    "league_data[\"country_name\"]=country_data[\"name\"]\n",
    "player_data = pd.read_sql(\"SELECT * FROM Player;\", conn)\n",
    "player_stats_data = pd.read_sql(\"SELECT * FROM Player_Attributes;\", conn)\n",
    "team_data = pd.read_sql(\"SELECT * FROM Team ORDER BY team_long_name;\", conn)\n",
    "team_stats_data=pd.read_sql(\"SELECT * FROM Team_Attributes;\", conn)\n",
    "match_data = pd.read_sql(\"SELECT * FROM Match;\", conn)"
   ]
  },
  {
   "cell_type": "code",
   "execution_count": 950,
   "id": "6f1bc0b2",
   "metadata": {},
   "outputs": [
    {
     "data": {
      "text/plain": [
       "Index(['id', 'player_fifa_api_id', 'player_api_id', 'date', 'overall_rating',\n",
       "       'potential', 'preferred_foot', 'attacking_work_rate',\n",
       "       'defensive_work_rate', 'crossing', 'finishing', 'heading_accuracy',\n",
       "       'short_passing', 'volleys', 'dribbling', 'curve', 'free_kick_accuracy',\n",
       "       'long_passing', 'ball_control', 'acceleration', 'sprint_speed',\n",
       "       'agility', 'reactions', 'balance', 'shot_power', 'jumping', 'stamina',\n",
       "       'strength', 'long_shots', 'aggression', 'interceptions', 'positioning',\n",
       "       'vision', 'penalties', 'marking', 'standing_tackle', 'sliding_tackle',\n",
       "       'gk_diving', 'gk_handling', 'gk_kicking', 'gk_positioning',\n",
       "       'gk_reflexes'],\n",
       "      dtype='object')"
      ]
     },
     "execution_count": 950,
     "metadata": {},
     "output_type": "execute_result"
    }
   ],
   "source": [
    "player_stats_data.columns"
   ]
  },
  {
   "cell_type": "code",
   "execution_count": 523,
   "id": "0ca9cff9",
   "metadata": {},
   "outputs": [
    {
     "name": "stdout",
     "output_type": "stream",
     "text": [
      "The following countries are available \n",
      "\n",
      "['Belgium', 'England', 'France', 'Germany', 'Italy', 'Netherlands', 'Poland', 'Portugal', 'Scotland', 'Spain', 'Switzerland'] \n",
      "\n",
      "The names of the leagues are \n",
      "\n",
      "['Belgium Jupiler League', 'England Premier League', 'France Ligue 1', 'Germany 1. Bundesliga', 'Italy Serie A', 'Netherlands Eredivisie', 'Poland Ekstraklasa', 'Portugal Liga ZON Sagres', 'Scotland Premier League', 'Spain LIGA BBVA', 'Switzerland Super League']\n"
     ]
    }
   ],
   "source": [
    "print(\"The following countries are available \\n\")\n",
    "print(list(league_data.country_name),\"\\n\")\n",
    "\n",
    "\n",
    "print(\"The names of the leagues are \\n\")\n",
    "print(list(league_data.name))\n",
    "\n"
   ]
  },
  {
   "cell_type": "code",
   "execution_count": 529,
   "id": "c0876068",
   "metadata": {},
   "outputs": [],
   "source": [
    "###Merge player_name and player_stats tables by calling how=\"outer\"\n",
    "\n",
    "players_all_data=pd.merge(player_stats_data,player_data,how=\"outer\",on=[\"player_api_id\"])\n",
    "players_all_data[\"Date\"]=pd.to_datetime(players_all_data.date)\n",
    "players_all_data[\"year\"]=players_all_data[\"Date\"].apply(lambda x: x.year)\n",
    "\n",
    "##Check that merging works with this example!!!\n",
    "#df1=player_data.sort_values(\"player_api_id\")[[\"player_api_id\",\"player_name\",\"height\"]][:]\n",
    "#print(df1)\n",
    "#df2=player_stats_data.sort_values(\"player_api_id\")[[\"player_api_id\",\"overall_rating\",\"date\",\"potential\",\"crossing\"]][:]\n",
    "#print(df2)\n",
    "#dftot=pd.merge(df1,df2,how=\"outer\",on=[\"player_api_id\"])\n",
    "#dftot[\"Date\"]=pd.to_datetime(dftot.date)\n",
    "#dftot[\"year\"]=dftot[\"Date\"].apply(lambda x: x.year)\n",
    "#----------\n"
   ]
  },
  {
   "cell_type": "code",
   "execution_count": 839,
   "id": "0914e2cd",
   "metadata": {
    "scrolled": false
   },
   "outputs": [],
   "source": [
    "df=players_all_data.sort_values(\"year\")\n",
    "#df_yearly=players_all_data.sort_values(\"year\").set_index([\"year\",\"player_name\"])\n",
    "df_yearly_avg=df.groupby([\"year\",\"player_name\"]).mean()\n",
    "#df_yearly_avg.loc[(2015,)].sort_values(\"overall_rating\",ascending=False).head(4)\n",
    "\n",
    "#df_yearly_avg.loc[(2015,\"Lionel Messi\")]\n",
    "#df_yearly_avg.sort_values(\"overall_rating\",ascending=False)\n",
    "#df_yearly_avg.xs(2016).sort_values(\"overall_rating\",ascending=False).head(5)"
   ]
  },
  {
   "cell_type": "code",
   "execution_count": 865,
   "id": "f557df84",
   "metadata": {},
   "outputs": [
    {
     "data": {
      "text/html": [
       "<div>\n",
       "<style scoped>\n",
       "    .dataframe tbody tr th:only-of-type {\n",
       "        vertical-align: middle;\n",
       "    }\n",
       "\n",
       "    .dataframe tbody tr th {\n",
       "        vertical-align: top;\n",
       "    }\n",
       "\n",
       "    .dataframe thead th {\n",
       "        text-align: right;\n",
       "    }\n",
       "</style>\n",
       "<table border=\"1\" class=\"dataframe\">\n",
       "  <thead>\n",
       "    <tr style=\"text-align: right;\">\n",
       "      <th></th>\n",
       "      <th>overall_rating</th>\n",
       "    </tr>\n",
       "    <tr>\n",
       "      <th>player_name</th>\n",
       "      <th></th>\n",
       "    </tr>\n",
       "  </thead>\n",
       "  <tbody>\n",
       "    <tr>\n",
       "      <th>Lionel Messi</th>\n",
       "      <td>92.192308</td>\n",
       "    </tr>\n",
       "    <tr>\n",
       "      <th>Cristiano Ronaldo</th>\n",
       "      <td>91.280000</td>\n",
       "    </tr>\n",
       "    <tr>\n",
       "      <th>Franck Ribery</th>\n",
       "      <td>88.458333</td>\n",
       "    </tr>\n",
       "    <tr>\n",
       "      <th>Andres Iniesta</th>\n",
       "      <td>88.320000</td>\n",
       "    </tr>\n",
       "    <tr>\n",
       "      <th>Zlatan Ibrahimovic</th>\n",
       "      <td>88.285714</td>\n",
       "    </tr>\n",
       "    <tr>\n",
       "      <th>Arjen Robben</th>\n",
       "      <td>87.840000</td>\n",
       "    </tr>\n",
       "    <tr>\n",
       "      <th>Xavi Hernandez</th>\n",
       "      <td>87.636364</td>\n",
       "    </tr>\n",
       "    <tr>\n",
       "      <th>Wayne Rooney</th>\n",
       "      <td>87.222222</td>\n",
       "    </tr>\n",
       "    <tr>\n",
       "      <th>Iker Casillas</th>\n",
       "      <td>86.954545</td>\n",
       "    </tr>\n",
       "    <tr>\n",
       "      <th>Philipp Lahm</th>\n",
       "      <td>86.733333</td>\n",
       "    </tr>\n",
       "  </tbody>\n",
       "</table>\n",
       "</div>"
      ],
      "text/plain": [
       "                    overall_rating\n",
       "player_name                       \n",
       "Lionel Messi             92.192308\n",
       "Cristiano Ronaldo        91.280000\n",
       "Franck Ribery            88.458333\n",
       "Andres Iniesta           88.320000\n",
       "Zlatan Ibrahimovic       88.285714\n",
       "Arjen Robben             87.840000\n",
       "Xavi Hernandez           87.636364\n",
       "Wayne Rooney             87.222222\n",
       "Iker Casillas            86.954545\n",
       "Philipp Lahm             86.733333"
      ]
     },
     "execution_count": 865,
     "metadata": {},
     "output_type": "execute_result"
    }
   ],
   "source": [
    "###Top 10 player by averaging over all columns \n",
    "df.groupby(\"player_name\").mean().sort_values(\"overall_rating\",ascending=False)[[\"overall_rating\"]].head(10)"
   ]
  },
  {
   "cell_type": "code",
   "execution_count": 866,
   "id": "0cad94d6",
   "metadata": {},
   "outputs": [
    {
     "data": {
      "text/plain": [
       "91.36243386243386"
      ]
     },
     "execution_count": 866,
     "metadata": {},
     "output_type": "execute_result"
    }
   ],
   "source": [
    "np.mean(df_yearly_avg.xs(\"Lionel Messi\",level=1).overall_rating)\n"
   ]
  },
  {
   "cell_type": "code",
   "execution_count": 883,
   "id": "854a1cfb",
   "metadata": {},
   "outputs": [
    {
     "name": "stdout",
     "output_type": "stream",
     "text": [
      "The top 10 players of all time\n",
      "                    overall_rating\n",
      "player_name                       \n",
      "Lionel Messi             91.362434\n",
      "Cristiano Ronaldo        90.844444\n",
      "Zlatan Ibrahimovic       88.083333\n",
      "Franck Ribery            87.825000\n",
      "Wayne Rooney             87.655000\n",
      "Andres Iniesta           87.638889\n",
      "Xavi Hernandez           87.627778\n",
      "Iker Casillas            87.530000\n",
      "Arjen Robben             87.520000\n",
      "Gianluigi Buffon         86.654167\n",
      "\n",
      " However this method is unfair for older players as their overall skills decrease over time and  \n",
      "\n",
      "reducing their average overall_rating\n"
     ]
    }
   ],
   "source": [
    "####Figure out the best players of all time\n",
    "###Average overall_rating over time for each player and pick the best 10 players \n",
    "\n",
    "best_list=[]\n",
    "for yr in df.year.unique():\n",
    "    top5=df_yearly_avg.xs(yr).sort_values(\"overall_rating\",ascending=False)\n",
    "    dict_out={}\n",
    "    for player in list(top5.index):\n",
    "        #print(player)\n",
    "        dict_out={\"player_name\":player,\"overall_rating\": top5.loc[player].overall_rating}\n",
    "        best_list.append(dict_out)\n",
    "        \n",
    "\n",
    "    \n",
    "    \n",
    "best_df=pd.DataFrame(best_list)\n",
    "best_df=best_df.groupby(\"player_name\").mean()\n",
    "best_df=best_df.sort_values(\"overall_rating\",ascending=False)\n",
    "print(\"The top 10 players of all time\")\n",
    "print(best_df.head(10))\n",
    "\n",
    "print(\"\\n However this method is unfair for older players as their overall skills decrease over time and  \\n\")\n",
    "print(\"reducing their average overall_rating\")"
   ]
  },
  {
   "cell_type": "code",
   "execution_count": 927,
   "id": "e35c7781",
   "metadata": {},
   "outputs": [
    {
     "data": {
      "text/html": [
       "<div>\n",
       "<style scoped>\n",
       "    .dataframe tbody tr th:only-of-type {\n",
       "        vertical-align: middle;\n",
       "    }\n",
       "\n",
       "    .dataframe tbody tr th {\n",
       "        vertical-align: top;\n",
       "    }\n",
       "\n",
       "    .dataframe thead th {\n",
       "        text-align: right;\n",
       "    }\n",
       "</style>\n",
       "<table border=\"1\" class=\"dataframe\">\n",
       "  <thead>\n",
       "    <tr style=\"text-align: right;\">\n",
       "      <th></th>\n",
       "      <th>overall_rating</th>\n",
       "      <th>stamina</th>\n",
       "    </tr>\n",
       "    <tr>\n",
       "      <th>player_name</th>\n",
       "      <th></th>\n",
       "      <th></th>\n",
       "    </tr>\n",
       "  </thead>\n",
       "  <tbody>\n",
       "    <tr>\n",
       "      <th>Lionel Messi</th>\n",
       "      <td>94.0</td>\n",
       "      <td>83.0</td>\n",
       "    </tr>\n",
       "    <tr>\n",
       "      <th>Wayne Rooney</th>\n",
       "      <td>93.0</td>\n",
       "      <td>92.0</td>\n",
       "    </tr>\n",
       "    <tr>\n",
       "      <th>Gianluigi Buffon</th>\n",
       "      <td>93.0</td>\n",
       "      <td>56.0</td>\n",
       "    </tr>\n",
       "    <tr>\n",
       "      <th>Cristiano Ronaldo</th>\n",
       "      <td>93.0</td>\n",
       "      <td>91.0</td>\n",
       "    </tr>\n",
       "    <tr>\n",
       "      <th>Xavi Hernandez</th>\n",
       "      <td>92.0</td>\n",
       "      <td>87.0</td>\n",
       "    </tr>\n",
       "    <tr>\n",
       "      <th>Gregory Coupet</th>\n",
       "      <td>92.0</td>\n",
       "      <td>72.0</td>\n",
       "    </tr>\n",
       "    <tr>\n",
       "      <th>Ronaldinho</th>\n",
       "      <td>91.0</td>\n",
       "      <td>80.0</td>\n",
       "    </tr>\n",
       "    <tr>\n",
       "      <th>Iker Casillas</th>\n",
       "      <td>91.0</td>\n",
       "      <td>62.0</td>\n",
       "    </tr>\n",
       "    <tr>\n",
       "      <th>John Terry</th>\n",
       "      <td>91.0</td>\n",
       "      <td>87.0</td>\n",
       "    </tr>\n",
       "    <tr>\n",
       "      <th>Fabio Cannavaro</th>\n",
       "      <td>91.0</td>\n",
       "      <td>83.0</td>\n",
       "    </tr>\n",
       "  </tbody>\n",
       "</table>\n",
       "</div>"
      ],
      "text/plain": [
       "                   overall_rating  stamina\n",
       "player_name                               \n",
       "Lionel Messi                 94.0     83.0\n",
       "Wayne Rooney                 93.0     92.0\n",
       "Gianluigi Buffon             93.0     56.0\n",
       "Cristiano Ronaldo            93.0     91.0\n",
       "Xavi Hernandez               92.0     87.0\n",
       "Gregory Coupet               92.0     72.0\n",
       "Ronaldinho                   91.0     80.0\n",
       "Iker Casillas                91.0     62.0\n",
       "John Terry                   91.0     87.0\n",
       "Fabio Cannavaro              91.0     83.0"
      ]
     },
     "execution_count": 927,
     "metadata": {},
     "output_type": "execute_result"
    }
   ],
   "source": [
    "###Top 10 rating regardless of year and just taking the maximum overall rating \n",
    "players_all_data.groupby(\"player_name\")[[\"overall_rating\",\"stamina\"]].max().sort_values(\"overall_rating\",ascending=False).head(10)\n",
    "                                                    "
   ]
  },
  {
   "cell_type": "code",
   "execution_count": 1285,
   "id": "5bc55c21",
   "metadata": {
    "scrolled": false
   },
   "outputs": [
    {
     "name": "stdout",
     "output_type": "stream",
     "text": [
      "Index(['id_x', 'player_fifa_api_id_x', 'player_api_id', 'date',\n",
      "       'overall_rating', 'potential', 'preferred_foot', 'attacking_work_rate',\n",
      "       'defensive_work_rate', 'crossing', 'finishing', 'heading_accuracy',\n",
      "       'short_passing', 'volleys', 'dribbling', 'curve', 'free_kick_accuracy',\n",
      "       'long_passing', 'ball_control', 'acceleration', 'sprint_speed',\n",
      "       'agility', 'reactions', 'balance', 'shot_power', 'jumping', 'stamina',\n",
      "       'strength', 'long_shots', 'aggression', 'interceptions', 'positioning',\n",
      "       'vision', 'penalties', 'marking', 'standing_tackle', 'sliding_tackle',\n",
      "       'gk_diving', 'gk_handling', 'gk_kicking', 'gk_positioning',\n",
      "       'gk_reflexes', 'id_y', 'player_name', 'player_fifa_api_id_y',\n",
      "       'birthday', 'height', 'weight', 'Date', 'year'],\n",
      "      dtype='object')\n"
     ]
    },
    {
     "data": {
      "image/png": "[encoded data removed]",
      "text/plain": [
       "<Figure size 432x288 with 1 Axes>"
      ]
     },
     "metadata": {
      "needs_background": "light"
     },
     "output_type": "display_data"
    },
    {
     "data": {
      "image/png": "[encoded data removed]",
      "text/plain": [
       "<Figure size 432x288 with 1 Axes>"
      ]
     },
     "metadata": {
      "needs_background": "light"
     },
     "output_type": "display_data"
    },
    {
     "data": {
      "image/png": "[encoded data removed]",
      "text/plain": [
       "<Figure size 432x288 with 1 Axes>"
      ]
     },
     "metadata": {
      "needs_background": "light"
     },
     "output_type": "display_data"
    }
   ],
   "source": [
    "df=players_all_data.sort_values(\"year\")\n",
    "print(df.columns)\n",
    "\n",
    "\n",
    "def plot_fun1(my_player_list,ability):\n",
    "    for playerstr in my_player_list:\n",
    "        dfout=df[df.player_name==playerstr]\n",
    "        dfout=dfout.groupby(\"year\").mean()\n",
    "        plt.plot(dfout.index,dfout[ability],label=playerstr)\n",
    "        plt.legend()\n",
    "        plt.title(ability)\n",
    "    plt.show()\n",
    "\n",
    "my_player_list=[\"Gianluigi Buffon\",\"Gregory Coupet\",\"Iker Casillas\"]\n",
    "#my_player_list=[\"Lionel Messi\",\"Cristiano Ronaldo\",\"Ronaldinho\"]\n",
    "ability=\"gk_positioning\"\n",
    "plot_fun1(my_player_list,ability)    \n",
    "\n",
    "ability=\"ball_control\"\n",
    "plot_fun1(my_player_list,ability)    \n",
    "\n",
    "ability=\"short_passing\"\n",
    "plot_fun1(my_player_list,ability)    "
   ]
  },
  {
   "cell_type": "code",
   "execution_count": 1299,
   "id": "0fbbdd7f",
   "metadata": {},
   "outputs": [
    {
     "data": {
      "image/png": "[encoded data removed]",
      "text/plain": [
       "<Figure size 432x288 with 1 Axes>"
      ]
     },
     "metadata": {
      "needs_background": "light"
     },
     "output_type": "display_data"
    },
    {
     "data": {
      "image/png": "[encoded data removed]",
      "text/plain": [
       "<Figure size 432x288 with 1 Axes>"
      ]
     },
     "metadata": {
      "needs_background": "light"
     },
     "output_type": "display_data"
    },
    {
     "data": {
      "image/png": "[encoded data removed]",
      "text/plain": [
       "<Figure size 432x288 with 1 Axes>"
      ]
     },
     "metadata": {
      "needs_background": "light"
     },
     "output_type": "display_data"
    }
   ],
   "source": [
    "#my_player_list=[\"Gianluigi Buffon\",\"Gregory Coupet\",\"Iker Casillas\"]\n",
    "my_player_list=[\"Gennaro Gattuso\",\"Xavi Hernandez\"]\n",
    "ability=\"heading_accuracy\"\n",
    "plot_fun1(my_player_list,ability)    \n",
    "\n",
    "ability=\"ball_control\"\n",
    "plot_fun1(my_player_list,ability) \n",
    "\n",
    "\n",
    "ability=\"short_passing\"\n",
    "plot_fun1(my_player_list,ability) "
   ]
  },
  {
   "cell_type": "markdown",
   "id": "419f76db",
   "metadata": {},
   "source": [
    "## Arrange Data into Features Matrix"
   ]
  },
  {
   "cell_type": "code",
   "execution_count": 1318,
   "id": "8d34b976",
   "metadata": {},
   "outputs": [],
   "source": [
    "from sklearn.model_selection import train_test_split\n",
    "from sklearn.preprocessing import StandardScaler\n",
    "\n",
    "from sklearn.cluster import KMeans"
   ]
  },
  {
   "cell_type": "code",
   "execution_count": 1338,
   "id": "1872b2d9",
   "metadata": {},
   "outputs": [],
   "source": [
    "df=players_all_data.sort_values(\"year\")\n",
    "year=2015\n",
    "df=df[df.year==year]\n",
    "\n",
    "features = ['overall_rating', 'potential','crossing', 'finishing', 'heading_accuracy',\n",
    "            'short_passing', 'volleys', 'dribbling', 'curve', 'free_kick_accuracy',\n",
    "            'long_passing', 'ball_control', 'acceleration', 'sprint_speed',\n",
    "            'agility', 'reactions', 'balance', 'shot_power', 'jumping', 'stamina',\n",
    "            'strength', 'long_shots', 'aggression', 'interceptions', 'positioning',\n",
    "            'vision', 'penalties', 'marking', 'standing_tackle', 'sliding_tackle',\n",
    "            'gk_diving', 'gk_handling', 'gk_kicking', 'gk_positioning',\n",
    "            'gk_reflexes','height', 'weight']\n",
    "\n",
    "features = ['crossing', 'finishing', 'heading_accuracy',\n",
    "            'short_passing', 'volleys', 'dribbling', 'curve', 'free_kick_accuracy',\n",
    "            'long_passing', 'ball_control', 'acceleration', 'sprint_speed',\n",
    "            'agility', 'reactions', 'balance', 'shot_power', 'jumping', 'stamina',\n",
    "            'strength', 'long_shots', 'aggression', 'interceptions', 'positioning',\n",
    "            'vision', 'penalties', 'marking', 'standing_tackle', 'sliding_tackle',\n",
    "            'gk_diving', 'gk_handling', 'gk_kicking', 'gk_positioning',\n",
    "            'gk_reflexes','height', 'weight']\n",
    "\n",
    "\n",
    "\n",
    "# Apply Standardization to features matrix X\n",
    "x = df.loc[:, features].dropna().values\n",
    "\n",
    "x = StandardScaler().fit_transform(x)\n",
    "\n"
   ]
  },
  {
   "cell_type": "markdown",
   "id": "39c80b5c",
   "metadata": {},
   "source": [
    "## Plot Data to Estimate Number of Clusters"
   ]
  },
  {
   "cell_type": "code",
   "execution_count": 1339,
   "id": "a52783e8",
   "metadata": {},
   "outputs": [
    {
     "data": {
      "image/png": "[encoded data removed]",
      "text/plain": [
       "<Figure size 432x288 with 1 Axes>"
      ]
     },
     "metadata": {
      "needs_background": "light"
     },
     "output_type": "display_data"
    }
   ],
   "source": [
    "# Plot \n",
    "xdat='gk_reflexes'\n",
    "ydat='finishing'\n",
    "pd.DataFrame(x, columns = features).plot.scatter(xdat,ydat )\n",
    "\n",
    "# Add labels\n",
    "plt.xlabel(xdat);\n",
    "plt.ylabel(ydat );\n",
    "plt.show()\n",
    "\n"
   ]
  },
  {
   "cell_type": "markdown",
   "id": "14cf89a4",
   "metadata": {},
   "source": [
    "## KMeans Clustering\n"
   ]
  },
  {
   "cell_type": "code",
   "execution_count": 1340,
   "id": "e4fc44f7",
   "metadata": {},
   "outputs": [
    {
     "data": {
      "text/plain": [
       "KMeans(n_clusters=4, random_state=1)"
      ]
     },
     "execution_count": 1340,
     "metadata": {},
     "output_type": "execute_result"
    }
   ],
   "source": [
    "# Make an instance of KMeans with 3 clusters\n",
    "kmeans = KMeans(n_clusters=4, random_state=1)\n",
    "\n",
    "# Fit only on a features matrix\n",
    "kmeans.fit(x)"
   ]
  },
  {
   "cell_type": "code",
   "execution_count": 1341,
   "id": "8395269b",
   "metadata": {},
   "outputs": [],
   "source": [
    "# Get labels and cluster centroids\n",
    "labels = kmeans.labels_\n",
    "centroids = kmeans.cluster_centers_\n",
    "x = pd.DataFrame(x, columns = features)\n"
   ]
  },
  {
   "cell_type": "code",
   "execution_count": 1342,
   "id": "df04ad9c",
   "metadata": {},
   "outputs": [
    {
     "data": {
      "text/plain": [
       "463339.02356926084"
      ]
     },
     "execution_count": 1342,
     "metadata": {},
     "output_type": "execute_result"
    }
   ],
   "source": [
    "kmeans.inertia_"
   ]
  },
  {
   "cell_type": "markdown",
   "id": "092547a1",
   "metadata": {},
   "source": [
    "## Count the number of each cluster"
   ]
  },
  {
   "cell_type": "code",
   "execution_count": 1363,
   "id": "bbcfc78f",
   "metadata": {},
   "outputs": [
    {
     "data": {
      "text/plain": [
       "3    12191\n",
       "0    10104\n",
       "2     7395\n",
       "1     2128\n",
       "dtype: int64"
      ]
     },
     "execution_count": 1363,
     "metadata": {},
     "output_type": "execute_result"
    }
   ],
   "source": [
    "pd.Series(labels).value_counts()"
   ]
  },
  {
   "cell_type": "markdown",
   "id": "ba789fab",
   "metadata": {},
   "source": [
    "## Visually Evaluate the Clusters\n"
   ]
  },
  {
   "cell_type": "code",
   "execution_count": 1343,
   "id": "4ccc7414",
   "metadata": {},
   "outputs": [
    {
     "data": {
      "image/png": "[encoded data removed]",
      "text/plain": [
       "<Figure size 432x288 with 1 Axes>"
      ]
     },
     "metadata": {
      "needs_background": "light"
     },
     "output_type": "display_data"
    }
   ],
   "source": [
    "colormap = np.array(['r', 'g', 'b',\"y\"])\n",
    "xdat='standing_tackle'\n",
    "ydat='finishing'\n",
    "plt.scatter(x[xdat], x[ydat], c=colormap[labels])\n",
    "plt.scatter(centroids[:,0], centroids[:,1], s = 300, marker = 'x', c = 'k')\n",
    "\n",
    "plt.xlabel(xdat)\n",
    "plt.ylabel(ydat);"
   ]
  },
  {
   "cell_type": "code",
   "execution_count": 1364,
   "id": "13e28e96",
   "metadata": {},
   "outputs": [
    {
     "data": {
      "text/html": [
       "<div>\n",
       "<style scoped>\n",
       "    .dataframe tbody tr th:only-of-type {\n",
       "        vertical-align: middle;\n",
       "    }\n",
       "\n",
       "    .dataframe tbody tr th {\n",
       "        vertical-align: top;\n",
       "    }\n",
       "\n",
       "    .dataframe thead th {\n",
       "        text-align: right;\n",
       "    }\n",
       "</style>\n",
       "<table border=\"1\" class=\"dataframe\">\n",
       "  <thead>\n",
       "    <tr style=\"text-align: right;\">\n",
       "      <th></th>\n",
       "      <th>player_name</th>\n",
       "      <th>overall_rating</th>\n",
       "      <th>finishing</th>\n",
       "      <th>stamina</th>\n",
       "      <th>gk_reflexes</th>\n",
       "      <th>position</th>\n",
       "    </tr>\n",
       "  </thead>\n",
       "  <tbody>\n",
       "    <tr>\n",
       "      <th>160998</th>\n",
       "      <td>Sergio Busquets</td>\n",
       "      <td>86.0</td>\n",
       "      <td>60.0</td>\n",
       "      <td>86.0</td>\n",
       "      <td>13.0</td>\n",
       "      <td>0</td>\n",
       "    </tr>\n",
       "    <tr>\n",
       "      <th>180711</th>\n",
       "      <td>Xavi Hernandez</td>\n",
       "      <td>86.0</td>\n",
       "      <td>74.0</td>\n",
       "      <td>60.0</td>\n",
       "      <td>9.0</td>\n",
       "      <td>0</td>\n",
       "    </tr>\n",
       "    <tr>\n",
       "      <th>17412</th>\n",
       "      <td>Arturo Vidal</td>\n",
       "      <td>86.0</td>\n",
       "      <td>76.0</td>\n",
       "      <td>93.0</td>\n",
       "      <td>4.0</td>\n",
       "      <td>0</td>\n",
       "    </tr>\n",
       "    <tr>\n",
       "      <th>177422</th>\n",
       "      <td>Vincent Kompany</td>\n",
       "      <td>86.0</td>\n",
       "      <td>45.0</td>\n",
       "      <td>70.0</td>\n",
       "      <td>6.0</td>\n",
       "      <td>0</td>\n",
       "    </tr>\n",
       "    <tr>\n",
       "      <th>177423</th>\n",
       "      <td>Vincent Kompany</td>\n",
       "      <td>86.0</td>\n",
       "      <td>45.0</td>\n",
       "      <td>70.0</td>\n",
       "      <td>6.0</td>\n",
       "      <td>0</td>\n",
       "    </tr>\n",
       "    <tr>\n",
       "      <th>177424</th>\n",
       "      <td>Vincent Kompany</td>\n",
       "      <td>86.0</td>\n",
       "      <td>45.0</td>\n",
       "      <td>70.0</td>\n",
       "      <td>6.0</td>\n",
       "      <td>0</td>\n",
       "    </tr>\n",
       "    <tr>\n",
       "      <th>180710</th>\n",
       "      <td>Xavi Hernandez</td>\n",
       "      <td>86.0</td>\n",
       "      <td>74.0</td>\n",
       "      <td>60.0</td>\n",
       "      <td>9.0</td>\n",
       "      <td>0</td>\n",
       "    </tr>\n",
       "    <tr>\n",
       "      <th>118877</th>\n",
       "      <td>Mats Hummels</td>\n",
       "      <td>86.0</td>\n",
       "      <td>55.0</td>\n",
       "      <td>67.0</td>\n",
       "      <td>6.0</td>\n",
       "      <td>0</td>\n",
       "    </tr>\n",
       "    <tr>\n",
       "      <th>180709</th>\n",
       "      <td>Xavi Hernandez</td>\n",
       "      <td>86.0</td>\n",
       "      <td>74.0</td>\n",
       "      <td>60.0</td>\n",
       "      <td>9.0</td>\n",
       "      <td>0</td>\n",
       "    </tr>\n",
       "    <tr>\n",
       "      <th>178945</th>\n",
       "      <td>Wayne Rooney</td>\n",
       "      <td>86.0</td>\n",
       "      <td>86.0</td>\n",
       "      <td>89.0</td>\n",
       "      <td>7.0</td>\n",
       "      <td>0</td>\n",
       "    </tr>\n",
       "  </tbody>\n",
       "</table>\n",
       "</div>"
      ],
      "text/plain": [
       "            player_name  overall_rating  finishing  stamina  gk_reflexes  \\\n",
       "160998  Sergio Busquets            86.0       60.0     86.0         13.0   \n",
       "180711   Xavi Hernandez            86.0       74.0     60.0          9.0   \n",
       "17412      Arturo Vidal            86.0       76.0     93.0          4.0   \n",
       "177422  Vincent Kompany            86.0       45.0     70.0          6.0   \n",
       "177423  Vincent Kompany            86.0       45.0     70.0          6.0   \n",
       "177424  Vincent Kompany            86.0       45.0     70.0          6.0   \n",
       "180710   Xavi Hernandez            86.0       74.0     60.0          9.0   \n",
       "118877     Mats Hummels            86.0       55.0     67.0          6.0   \n",
       "180709   Xavi Hernandez            86.0       74.0     60.0          9.0   \n",
       "178945     Wayne Rooney            86.0       86.0     89.0          7.0   \n",
       "\n",
       "        position  \n",
       "160998         0  \n",
       "180711         0  \n",
       "17412          0  \n",
       "177422         0  \n",
       "177423         0  \n",
       "177424         0  \n",
       "180710         0  \n",
       "118877         0  \n",
       "180709         0  \n",
       "178945         0  "
      ]
     },
     "execution_count": 1364,
     "metadata": {},
     "output_type": "execute_result"
    }
   ],
   "source": [
    "df=players_all_data.sort_values(\"year\")\n",
    "df=df[df.year==year]\n",
    "features = [\"player_name\",\"overall_rating\",'finishing', \"stamina\",'gk_reflexes']\n",
    "\n",
    "df=df[features].dropna()\n",
    "df[\"position\"]=list(labels)\n",
    "df=df.sort_values(\"overall_rating\",ascending=False)\n",
    "\n",
    "midfield, striker,defense, goali=0,3,2,1\n",
    "\n",
    "\n",
    "df[df.position==midfield].iloc[40:50]\n",
    "\n",
    "#df[df.player_name==\"Ashley Young\"]\n",
    "\n",
    "#df[df.player_name==\"Ashley Young\"]"
   ]
  },
  {
   "cell_type": "code",
   "execution_count": 1025,
   "id": "54f702a1",
   "metadata": {},
   "outputs": [],
   "source": [
    "## Select country and display all available seasons\n",
    "country_name=\"Italy\"\n",
    "team_name=\"Juventus\"\n",
    "league_name=None\n",
    "season_name=None\n",
    "\n"
   ]
  },
  {
   "cell_type": "code",
   "execution_count": null,
   "id": "b8f7c4ee",
   "metadata": {},
   "outputs": [],
   "source": [
    "if myinput in [country_title,team_name,league_name,season_name]:\n",
    "    print(\"We chosed:\",myinput)\n",
    "\n",
    "country_id=country_data[country_data[\"name\"]==country_title].id\n",
    "serie_A_matches=match_data[match_data.country_id==int(country_id)]\n",
    "\n",
    "all_season=list(serie_A_matches.season.unique())\n",
    "print(\"Seasons available are \\n\",all_season)\n",
    "\n",
    "\n"
   ]
  },
  {
   "cell_type": "code",
   "execution_count": null,
   "id": "758fea8b",
   "metadata": {},
   "outputs": [],
   "source": [
    "if myinput in [country_title,team_name,league_name,season_name]:\n",
    "    print(\"We chosed:\",myinput)\n",
    "\n",
    "country_id=country_data[country_data[\"name\"]==country_title].id\n",
    "serie_A_matches=match_data[match_data.country_id==int(country_id)]\n",
    "\n",
    "all_season=list(serie_A_matches.season.unique())\n",
    "print(\"Seasons available are \\n\",all_season)\n",
    "\n",
    "\n"
   ]
  },
  {
   "cell_type": "code",
   "execution_count": 451,
   "id": "cefde087",
   "metadata": {},
   "outputs": [],
   "source": [
    "#(serie_A_matches.columns).intersection((team_data.columns))"
   ]
  },
  {
   "cell_type": "code",
   "execution_count": 426,
   "id": "6e45912c",
   "metadata": {},
   "outputs": [
    {
     "name": "stdout",
     "output_type": "stream",
     "text": [
      "total number of matches in the whole season 240\n",
      "each team plays a total of  0  games\n",
      "Total number of teams  16\n"
     ]
    }
   ],
   "source": [
    "###Pick one season and select one team\n",
    "serie_A_matches=serie_A_matches[serie_A_matches.season==all_season[-1]]\n",
    "print(\"total number of matches in the whole season\", len(serie_A_matches))\n",
    "###Select all the team's matches and season \n",
    "team_number=int(team_data[team_data.team_long_name==\"Milan\"].team_api_id)\n",
    "team_matches=serie_A_matches[(serie_A_matches.home_team_api_id==team_number) | (serie_A_matches.away_team_api_id==team_number)]\n",
    "print(\"each team plays a total of \",len(team_matches),\" games\")\n",
    "print(\"Total number of teams \",len(serie_A_matches.home_team_api_id.unique()))\n",
    "\n",
    "seriea_A_teams=team_data[team_data[\"team_api_id\"].isin(list(serie_A_matches.home_team_api_id.unique())) ]\n"
   ]
  },
  {
   "cell_type": "code",
   "execution_count": 414,
   "id": "3006f1a9",
   "metadata": {},
   "outputs": [
    {
     "data": {
      "text/html": [
       "<div>\n",
       "<style scoped>\n",
       "    .dataframe tbody tr th:only-of-type {\n",
       "        vertical-align: middle;\n",
       "    }\n",
       "\n",
       "    .dataframe tbody tr th {\n",
       "        vertical-align: top;\n",
       "    }\n",
       "\n",
       "    .dataframe thead th {\n",
       "        text-align: right;\n",
       "    }\n",
       "</style>\n",
       "<table border=\"1\" class=\"dataframe\">\n",
       "  <thead>\n",
       "    <tr style=\"text-align: right;\">\n",
       "      <th></th>\n",
       "      <th>id</th>\n",
       "      <th>team_api_id</th>\n",
       "      <th>team_fifa_api_id</th>\n",
       "      <th>team_long_name</th>\n",
       "      <th>team_short_name</th>\n",
       "    </tr>\n",
       "  </thead>\n",
       "  <tbody>\n",
       "    <tr>\n",
       "      <th>22</th>\n",
       "      <td>43051</td>\n",
       "      <td>8315</td>\n",
       "      <td>448.0</td>\n",
       "      <td>Athletic Club de Bilbao</td>\n",
       "      <td>BIL</td>\n",
       "    </tr>\n",
       "    <tr>\n",
       "      <th>23</th>\n",
       "      <td>43053</td>\n",
       "      <td>9906</td>\n",
       "      <td>240.0</td>\n",
       "      <td>Atlético Madrid</td>\n",
       "      <td>AMA</td>\n",
       "    </tr>\n",
       "    <tr>\n",
       "      <th>39</th>\n",
       "      <td>43037</td>\n",
       "      <td>8371</td>\n",
       "      <td>479.0</td>\n",
       "      <td>CA Osasuna</td>\n",
       "      <td>OSA</td>\n",
       "    </tr>\n",
       "    <tr>\n",
       "      <th>41</th>\n",
       "      <td>43041</td>\n",
       "      <td>8388</td>\n",
       "      <td>477.0</td>\n",
       "      <td>CD Numancia</td>\n",
       "      <td>NUM</td>\n",
       "    </tr>\n",
       "    <tr>\n",
       "      <th>75</th>\n",
       "      <td>43042</td>\n",
       "      <td>8634</td>\n",
       "      <td>241.0</td>\n",
       "      <td>FC Barcelona</td>\n",
       "      <td>BAR</td>\n",
       "    </tr>\n",
       "    <tr>\n",
       "      <th>112</th>\n",
       "      <td>43046</td>\n",
       "      <td>8305</td>\n",
       "      <td>1860.0</td>\n",
       "      <td>Getafe CF</td>\n",
       "      <td>GET</td>\n",
       "    </tr>\n",
       "    <tr>\n",
       "      <th>168</th>\n",
       "      <td>43054</td>\n",
       "      <td>9864</td>\n",
       "      <td>573.0</td>\n",
       "      <td>Málaga CF</td>\n",
       "      <td>MAL</td>\n",
       "    </tr>\n",
       "    <tr>\n",
       "      <th>200</th>\n",
       "      <td>43039</td>\n",
       "      <td>9783</td>\n",
       "      <td>242.0</td>\n",
       "      <td>RC Deportivo de La Coruña</td>\n",
       "      <td>COR</td>\n",
       "    </tr>\n",
       "    <tr>\n",
       "      <th>202</th>\n",
       "      <td>43048</td>\n",
       "      <td>8479</td>\n",
       "      <td>571.0</td>\n",
       "      <td>RC Recreativo</td>\n",
       "      <td>HUE</td>\n",
       "    </tr>\n",
       "    <tr>\n",
       "      <th>203</th>\n",
       "      <td>43049</td>\n",
       "      <td>8558</td>\n",
       "      <td>452.0</td>\n",
       "      <td>RCD Espanyol</td>\n",
       "      <td>ESP</td>\n",
       "    </tr>\n",
       "    <tr>\n",
       "      <th>204</th>\n",
       "      <td>43036</td>\n",
       "      <td>8661</td>\n",
       "      <td>453.0</td>\n",
       "      <td>RCD Mallorca</td>\n",
       "      <td>MAL</td>\n",
       "    </tr>\n",
       "    <tr>\n",
       "      <th>207</th>\n",
       "      <td>43043</td>\n",
       "      <td>8696</td>\n",
       "      <td>456.0</td>\n",
       "      <td>Racing Santander</td>\n",
       "      <td>SAN</td>\n",
       "    </tr>\n",
       "    <tr>\n",
       "      <th>211</th>\n",
       "      <td>43047</td>\n",
       "      <td>8603</td>\n",
       "      <td>449.0</td>\n",
       "      <td>Real Betis Balompié</td>\n",
       "      <td>BET</td>\n",
       "    </tr>\n",
       "    <tr>\n",
       "      <th>212</th>\n",
       "      <td>43040</td>\n",
       "      <td>8633</td>\n",
       "      <td>243.0</td>\n",
       "      <td>Real Madrid CF</td>\n",
       "      <td>REA</td>\n",
       "    </tr>\n",
       "    <tr>\n",
       "      <th>214</th>\n",
       "      <td>43045</td>\n",
       "      <td>9869</td>\n",
       "      <td>459.0</td>\n",
       "      <td>Real Sporting de Gijón</td>\n",
       "      <td>SPG</td>\n",
       "    </tr>\n",
       "    <tr>\n",
       "      <th>215</th>\n",
       "      <td>43050</td>\n",
       "      <td>10281</td>\n",
       "      <td>462.0</td>\n",
       "      <td>Real Valladolid</td>\n",
       "      <td>VAL</td>\n",
       "    </tr>\n",
       "    <tr>\n",
       "      <th>242</th>\n",
       "      <td>43044</td>\n",
       "      <td>8302</td>\n",
       "      <td>481.0</td>\n",
       "      <td>Sevilla FC</td>\n",
       "      <td>SEV</td>\n",
       "    </tr>\n",
       "    <tr>\n",
       "      <th>268</th>\n",
       "      <td>43052</td>\n",
       "      <td>9865</td>\n",
       "      <td>1861.0</td>\n",
       "      <td>UD Almería</td>\n",
       "      <td>ALM</td>\n",
       "    </tr>\n",
       "    <tr>\n",
       "      <th>275</th>\n",
       "      <td>43035</td>\n",
       "      <td>10267</td>\n",
       "      <td>461.0</td>\n",
       "      <td>Valencia CF</td>\n",
       "      <td>VAL</td>\n",
       "    </tr>\n",
       "    <tr>\n",
       "      <th>280</th>\n",
       "      <td>43038</td>\n",
       "      <td>10205</td>\n",
       "      <td>483.0</td>\n",
       "      <td>Villarreal CF</td>\n",
       "      <td>VIL</td>\n",
       "    </tr>\n",
       "  </tbody>\n",
       "</table>\n",
       "</div>"
      ],
      "text/plain": [
       "        id  team_api_id  team_fifa_api_id             team_long_name  \\\n",
       "22   43051         8315             448.0    Athletic Club de Bilbao   \n",
       "23   43053         9906             240.0            Atlético Madrid   \n",
       "39   43037         8371             479.0                 CA Osasuna   \n",
       "41   43041         8388             477.0                CD Numancia   \n",
       "75   43042         8634             241.0               FC Barcelona   \n",
       "112  43046         8305            1860.0                  Getafe CF   \n",
       "168  43054         9864             573.0                  Málaga CF   \n",
       "200  43039         9783             242.0  RC Deportivo de La Coruña   \n",
       "202  43048         8479             571.0              RC Recreativo   \n",
       "203  43049         8558             452.0               RCD Espanyol   \n",
       "204  43036         8661             453.0               RCD Mallorca   \n",
       "207  43043         8696             456.0           Racing Santander   \n",
       "211  43047         8603             449.0        Real Betis Balompié   \n",
       "212  43040         8633             243.0             Real Madrid CF   \n",
       "214  43045         9869             459.0     Real Sporting de Gijón   \n",
       "215  43050        10281             462.0            Real Valladolid   \n",
       "242  43044         8302             481.0                 Sevilla FC   \n",
       "268  43052         9865            1861.0                 UD Almería   \n",
       "275  43035        10267             461.0                Valencia CF   \n",
       "280  43038        10205             483.0              Villarreal CF   \n",
       "\n",
       "    team_short_name  \n",
       "22              BIL  \n",
       "23              AMA  \n",
       "39              OSA  \n",
       "41              NUM  \n",
       "75              BAR  \n",
       "112             GET  \n",
       "168             MAL  \n",
       "200             COR  \n",
       "202             HUE  \n",
       "203             ESP  \n",
       "204             MAL  \n",
       "207             SAN  \n",
       "211             BET  \n",
       "212             REA  \n",
       "214             SPG  \n",
       "215             VAL  \n",
       "242             SEV  \n",
       "268             ALM  \n",
       "275             VAL  \n",
       "280             VIL  "
      ]
     },
     "execution_count": 414,
     "metadata": {},
     "output_type": "execute_result"
    }
   ],
   "source": [
    "seriea_A_teams"
   ]
  },
  {
   "cell_type": "code",
   "execution_count": 421,
   "id": "9eeae70f",
   "metadata": {},
   "outputs": [
    {
     "data": {
      "text/plain": [
       "0        1.73\n",
       "1        1.95\n",
       "2        2.38\n",
       "3        1.44\n",
       "4        5.00\n",
       "         ... \n",
       "25974     NaN\n",
       "25975     NaN\n",
       "25976     NaN\n",
       "25977     NaN\n",
       "25978     NaN\n",
       "Name: B365H, Length: 25979, dtype: float64"
      ]
     },
     "execution_count": 421,
     "metadata": {},
     "output_type": "execute_result"
    }
   ],
   "source": [
    "match_data.B365H"
   ]
  },
  {
   "cell_type": "code",
   "execution_count": 420,
   "id": "d611b342",
   "metadata": {},
   "outputs": [
    {
     "data": {
      "text/plain": [
       "['id',\n",
       " 'country_id',\n",
       " 'league_id',\n",
       " 'season',\n",
       " 'stage',\n",
       " 'date',\n",
       " 'match_api_id',\n",
       " 'home_team_api_id',\n",
       " 'away_team_api_id',\n",
       " 'home_team_goal',\n",
       " 'away_team_goal',\n",
       " 'home_player_X1',\n",
       " 'home_player_X2',\n",
       " 'home_player_X3',\n",
       " 'home_player_X4',\n",
       " 'home_player_X5',\n",
       " 'home_player_X6',\n",
       " 'home_player_X7',\n",
       " 'home_player_X8',\n",
       " 'home_player_X9',\n",
       " 'home_player_X10',\n",
       " 'home_player_X11',\n",
       " 'away_player_X1',\n",
       " 'away_player_X2',\n",
       " 'away_player_X3',\n",
       " 'away_player_X4',\n",
       " 'away_player_X5',\n",
       " 'away_player_X6',\n",
       " 'away_player_X7',\n",
       " 'away_player_X8',\n",
       " 'away_player_X9',\n",
       " 'away_player_X10',\n",
       " 'away_player_X11',\n",
       " 'home_player_Y1',\n",
       " 'home_player_Y2',\n",
       " 'home_player_Y3',\n",
       " 'home_player_Y4',\n",
       " 'home_player_Y5',\n",
       " 'home_player_Y6',\n",
       " 'home_player_Y7',\n",
       " 'home_player_Y8',\n",
       " 'home_player_Y9',\n",
       " 'home_player_Y10',\n",
       " 'home_player_Y11',\n",
       " 'away_player_Y1',\n",
       " 'away_player_Y2',\n",
       " 'away_player_Y3',\n",
       " 'away_player_Y4',\n",
       " 'away_player_Y5',\n",
       " 'away_player_Y6',\n",
       " 'away_player_Y7',\n",
       " 'away_player_Y8',\n",
       " 'away_player_Y9',\n",
       " 'away_player_Y10',\n",
       " 'away_player_Y11',\n",
       " 'home_player_1',\n",
       " 'home_player_2',\n",
       " 'home_player_3',\n",
       " 'home_player_4',\n",
       " 'home_player_5',\n",
       " 'home_player_6',\n",
       " 'home_player_7',\n",
       " 'home_player_8',\n",
       " 'home_player_9',\n",
       " 'home_player_10',\n",
       " 'home_player_11',\n",
       " 'away_player_1',\n",
       " 'away_player_2',\n",
       " 'away_player_3',\n",
       " 'away_player_4',\n",
       " 'away_player_5',\n",
       " 'away_player_6',\n",
       " 'away_player_7',\n",
       " 'away_player_8',\n",
       " 'away_player_9',\n",
       " 'away_player_10',\n",
       " 'away_player_11',\n",
       " 'goal',\n",
       " 'shoton',\n",
       " 'shotoff',\n",
       " 'foulcommit',\n",
       " 'card',\n",
       " 'cross',\n",
       " 'corner',\n",
       " 'possession',\n",
       " 'B365H',\n",
       " 'B365D',\n",
       " 'B365A',\n",
       " 'BWH',\n",
       " 'BWD',\n",
       " 'BWA',\n",
       " 'IWH',\n",
       " 'IWD',\n",
       " 'IWA',\n",
       " 'LBH',\n",
       " 'LBD',\n",
       " 'LBA',\n",
       " 'PSH',\n",
       " 'PSD',\n",
       " 'PSA',\n",
       " 'WHH',\n",
       " 'WHD',\n",
       " 'WHA',\n",
       " 'SJH',\n",
       " 'SJD',\n",
       " 'SJA',\n",
       " 'VCH',\n",
       " 'VCD',\n",
       " 'VCA',\n",
       " 'GBH',\n",
       " 'GBD',\n",
       " 'GBA',\n",
       " 'BSH',\n",
       " 'BSD',\n",
       " 'BSA']"
      ]
     },
     "execution_count": 420,
     "metadata": {},
     "output_type": "execute_result"
    }
   ],
   "source": [
    "list(match_data.columns)"
   ]
  },
  {
   "cell_type": "code",
   "execution_count": 402,
   "id": "d8d90b6d",
   "metadata": {},
   "outputs": [],
   "source": [
    "Milan_Statistics = pd.read_sql(\"\"\"SELECT *\n",
    " \n",
    "                                        FROM Team \n",
    "\n",
    "                                        left join Team_Attributes\n",
    "                                        \n",
    "                                        on Team_Attributes.team_api_id = Team.team_api_id\n",
    "                                        \n",
    "                                        where team_long_name= \"Milan\"\n",
    "                                        \n",
    "                        \n",
    "                        \"\"\", conn)"
   ]
  },
  {
   "cell_type": "code",
   "execution_count": 405,
   "id": "caa2a1ba",
   "metadata": {},
   "outputs": [
    {
     "data": {
      "text/plain": [
       "0    2010-02-22 00:00:00\n",
       "1    2011-02-22 00:00:00\n",
       "2    2012-02-22 00:00:00\n",
       "3    2013-09-20 00:00:00\n",
       "4    2014-09-19 00:00:00\n",
       "5    2015-09-10 00:00:00\n",
       "Name: date, dtype: object"
      ]
     },
     "execution_count": 405,
     "metadata": {},
     "output_type": "execute_result"
    }
   ],
   "source": [
    "Milan_Statistics.date"
   ]
  },
  {
   "cell_type": "code",
   "execution_count": null,
   "id": "adb9e0af",
   "metadata": {},
   "outputs": [],
   "source": []
  }
 ],
 "metadata": {
  "kernelspec": {
   "display_name": "Python 3",
   "language": "python",
   "name": "python3"
  },
  "language_info": {
   "codemirror_mode": {
    "name": "ipython",
    "version": 3
   },
   "file_extension": ".py",
   "mimetype": "text/x-python",
   "name": "python",
   "nbconvert_exporter": "python",
   "pygments_lexer": "ipython3",
   "version": "3.6.12"
  }
 },
 "nbformat": 4,
 "nbformat_minor": 5
}
